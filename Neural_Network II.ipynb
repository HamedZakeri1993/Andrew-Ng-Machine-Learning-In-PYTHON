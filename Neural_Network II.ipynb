{
 "cells": [
  {
   "cell_type": "code",
   "execution_count": 1,
   "metadata": {},
   "outputs": [],
   "source": [
    "import numpy as np\n",
    "import pandas as pd\n",
    "import random\n",
    "import math\n",
    "import matplotlib.pyplot as plt\n",
    "from sklearn import preprocessing as pp\n",
    "from scipy import optimize as op\n",
    "import scipy.io as lm"
   ]
  },
  {
   "cell_type": "code",
   "execution_count": 2,
   "metadata": {},
   "outputs": [],
   "source": [
    "data = lm.loadmat('ex3data1.mat')\n",
    "x = np.copy(data['X'])\n",
    "y = np.copy(data['y'])\n",
    "fpw = lm.loadmat('ex3weights.mat')"
   ]
  },
  {
   "cell_type": "code",
   "execution_count": 3,
   "metadata": {},
   "outputs": [],
   "source": [
    "#One Hot notation of the labels \n",
    "n_values = np.max(y[:,0])+1\n",
    "hot_lab = np.eye(n_values)[y[:,0]]\n",
    "hot_lab = hot_lab[:,1:]"
   ]
  },
  {
   "cell_type": "code",
   "execution_count": 4,
   "metadata": {},
   "outputs": [],
   "source": [
    "def sigmoid(x):\n",
    "  return 1 / (1 + np.exp(-x))\n",
    "\n",
    "def NN_pred(x,t1,t2):\n",
    "    x_in = np.c_[np.ones((x.shape[0],1)), x]\n",
    "    L2 = sigmoid(np.matmul(t1,x_in.T).T)\n",
    "    L2_in = np.c_[np.ones((L2.shape[0],1)), L2]\n",
    "    h = sigmoid(np.matmul(t2,L2_in.T).T)\n",
    "    return h"
   ]
  },
  {
   "cell_type": "code",
   "execution_count": 5,
   "metadata": {},
   "outputs": [],
   "source": [
    "#NN cost function \n",
    "def costNN(theta,x,hot_lab,lam):\n",
    "    t1 = theta[0:25*401].reshape(25,401)\n",
    "    t2 = theta[25*401:].reshape(10,26)\n",
    "    m = x.shape[0]*1.0\n",
    "    h = NN_pred(x,t1,t2)\n",
    "    sum1 = -1.0 * hot_lab * np.log(h) /m\n",
    "    one_m_h = np.log(1.0 - h)\n",
    "    sum2 = -1.0*(1-hot_lab)* one_m_h /m\n",
    "    cost  = (sum1+sum2).sum()\n",
    "    regularization  = lam/(2.0*m)*(((t1**2)[:,1:]).sum()+((t2**2)[:,1:]).sum())\n",
    "    return cost + regularization"
   ]
  },
  {
   "cell_type": "code",
   "execution_count": 6,
   "metadata": {},
   "outputs": [],
   "source": [
    "#Backpropagation\n",
    "#Sigmoid Gradient\n",
    "def sigmoidGradient(z):\n",
    "    return sigmoid(z)*(1.0-sigmoid(z))\n",
    "def randInitializeWeights(num_in,num_out,num_hidden):\n",
    "    eps = 0.12\n",
    "    in1 = np.random.rand(num_hidden,num_in+1) * 2.0 *eps - eps\n",
    "    in2 = np.random.rand(num_out,num_hidden+1) * 2.0 *eps - eps\n",
    "    return np.concatenate((in1.ravel(),in2.ravel()))"
   ]
  },
  {
   "cell_type": "code",
   "execution_count": 7,
   "metadata": {},
   "outputs": [],
   "source": [
    "# Vectorized, But needs organaizing(Sorry!)\n",
    "def backpropagation(theta,x,hot_lab,lam):\n",
    "    t1 = theta[0:25*401].reshape(25,401)\n",
    "    t2 = theta[25*401:].reshape(10,26)\n",
    "    h = NN_pred(x,t1,t2)\n",
    "    m = x.shape[0]*1.0\n",
    "    x_in = np.c_[np.ones((x.shape[0],1)), x]\n",
    "    delta3 = h - hot_lab\n",
    "    z = np.matmul(x_in,t1.T)\n",
    "    z_in = np.c_[np.ones((z.shape[0],1)), z]\n",
    "    delta2 = (np.matmul(delta3,t2)* sigmoidGradient(z_in))[:,1:]\n",
    "    a = sigmoid(z_in)\n",
    "    a[:,0] = np.ones(x.shape[0])\n",
    "    grad2 = np.matmul(delta3.T,a)/m \n",
    "    grad2[:,1:] = grad2[:,1:]+ (lam/m)*t2[:,1:]\n",
    "    grad1 = np.matmul(delta2.T,x_in)/m\n",
    "    grad1[:,1:] = grad1[:,1:]+ (lam/m)*t1[:,1:]\n",
    "    return np.concatenate((grad1.ravel(),grad2.ravel()))"
   ]
  },
  {
   "cell_type": "code",
   "execution_count": 8,
   "metadata": {
    "scrolled": false
   },
   "outputs": [],
   "source": [
    "#Gradient Chack --> Numerically checking our backpropagation function\n",
    "check = False\n",
    "if check:\n",
    "    eps = 10.0**(-4)\n",
    "    unrolled = np.concatenate((t1.ravel(),t2.ravel()))\n",
    "    grad_check = np.zeros(len(unrolled))\n",
    "    for i in range(0,len(unrolled)):\n",
    "        T_pos = np.copy(unrolled)\n",
    "        T_pos[i] = T_pos[i]+eps\n",
    "        T_neg = np.copy(unrolled)\n",
    "        T_neg[i] = T_neg[i]-eps\n",
    "        t1_pos = T_pos[0:t1.size].reshape(t1.shape[0],t1.shape[1])\n",
    "        t2_pos = T_pos[(t1.size):].reshape(t2.shape[0],t2.shape[1])\n",
    "        t1_neg = T_neg[0:(t1.size)].reshape(t1.shape[0],t1.shape[1])\n",
    "        t2_neg = T_neg[(t1.size):].reshape(t2.shape[0],t2.shape[1])\n",
    "        grad_check[i] = (costNN(t1_pos,t2_pos,x,hot_lab,0.0) - costNN(t1_neg,t2_neg,x,hot_lab,0.0))/(2.0*eps)"
   ]
  },
  {
   "cell_type": "code",
   "execution_count": 9,
   "metadata": {},
   "outputs": [
    {
     "name": "stdout",
     "output_type": "stream",
     "text": [
      "Warning: Maximum number of iterations has been exceeded.\n",
      "         Current function value: 0.305322\n",
      "         Iterations: 50\n",
      "         Function evaluations: 65\n",
      "         Gradient evaluations: 3128\n",
      "         Hessian evaluations: 0\n"
     ]
    }
   ],
   "source": [
    "lam = 1.0\n",
    "init = randInitializeWeights(400,10,25)\n",
    "res = op.minimize(costNN,init , args=(x,hot_lab,lam),method = 'Newton-CG', \n",
    "                  jac=backpropagation, options={'maxiter':50, \"disp\":True})"
   ]
  },
  {
   "cell_type": "code",
   "execution_count": 10,
   "metadata": {},
   "outputs": [],
   "source": [
    "T1 = res.x[0:25*401].reshape(25,401)\n",
    "T2 = res.x[25*401:].reshape(10,26)\n",
    "p = NN_pred(x,T1,T2)\n",
    "prediction = p.argmax(1)+1\n",
    "ac = sum(prediction == y[:,0])/5000.0"
   ]
  },
  {
   "cell_type": "code",
   "execution_count": 11,
   "metadata": {},
   "outputs": [
    {
     "name": "stdout",
     "output_type": "stream",
     "text": [
      "The model accuracy for test set is  99.66000000000001\n"
     ]
    }
   ],
   "source": [
    "print \"The model accuracy for test set is \",(ac*100)"
   ]
  }
 ],
 "metadata": {
  "kernelspec": {
   "display_name": "Python 2",
   "language": "python",
   "name": "python2"
  },
  "language_info": {
   "codemirror_mode": {
    "name": "ipython",
    "version": 2
   },
   "file_extension": ".py",
   "mimetype": "text/x-python",
   "name": "python",
   "nbconvert_exporter": "python",
   "pygments_lexer": "ipython2",
   "version": "2.7.15"
  }
 },
 "nbformat": 4,
 "nbformat_minor": 2
}
