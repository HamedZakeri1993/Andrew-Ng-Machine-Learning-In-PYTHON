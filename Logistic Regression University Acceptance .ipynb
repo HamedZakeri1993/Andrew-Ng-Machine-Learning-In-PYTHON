{
 "cells": [
  {
   "cell_type": "code",
   "execution_count": 1,
   "metadata": {},
   "outputs": [],
   "source": [
    "#Importing the required packages\n",
    "import numpy as np\n",
    "import pandas\n",
    "import random\n",
    "import math\n",
    "import matplotlib.pyplot as plt\n",
    "from sklearn import preprocessing as pp\n",
    "from scipy import optimize as op"
   ]
  },
  {
   "cell_type": "code",
   "execution_count": 2,
   "metadata": {},
   "outputs": [],
   "source": [
    "#Data for the first part of the assignment\n",
    "#Note the data is changed from a txt file to a csv file \n",
    "data = pandas.read_csv('ex2data1.csv', header = None )\n",
    "dim = np.array(data.shape)\n",
    "#The last column of the file includes the labels \n",
    "x = np.array(data.iloc[:,0:(dim[1]-1)])\n",
    "label = np.array(data.iloc[:,(dim[1]-1)])"
   ]
  },
  {
   "cell_type": "code",
   "execution_count": 3,
   "metadata": {},
   "outputs": [],
   "source": [
    "#Sigmoid function\n",
    "def sigmoid(x):\n",
    "  return 1 / (1 + np.exp(-x))"
   ]
  },
  {
   "cell_type": "code",
   "execution_count": 4,
   "metadata": {},
   "outputs": [],
   "source": [
    "#Logistic regression cost function\n",
    "#Lam is the regularization term\n",
    "def costfn (theta,x,label,lam):\n",
    "    m = np.array(x.shape)[0]*1.0\n",
    "    z = theta[0]+ np.matmul(x,theta[1:])\n",
    "    h = sigmoid(z)\n",
    "    # Cost function without the regularization term\n",
    "    cost = -1.0/m * sum(label*np.log(h)+(1-label)*np.log(1-h))\n",
    "    # Cost function with the regularization term\n",
    "    cost_regularized = cost + lam/(2*m) * sum (theta[1:]**2)\n",
    "    return cost_regularized"
   ]
  },
  {
   "cell_type": "code",
   "execution_count": 5,
   "metadata": {},
   "outputs": [],
   "source": [
    "#Gradient Calculation\n",
    "#\"lam\" is the regularization constant\n",
    "def grad(theta,x,label,lam):\n",
    "    m = np.array(x.shape)[0]*1.0\n",
    "    z = theta[0]+ np.matmul(x,theta[1:])\n",
    "    h = sigmoid(z)\n",
    "    grad = np.zeros(np.array(x.shape)[1]+1)\n",
    "    grad[0] = sum(h-label)/m\n",
    "    grad[1:] = np.matmul((h-label).transpose(),x)/m+ lam/m * theta[1:]\n",
    "    return grad  "
   ]
  },
  {
   "cell_type": "code",
   "execution_count": 6,
   "metadata": {},
   "outputs": [
    {
     "name": "stderr",
     "output_type": "stream",
     "text": [
      "/anaconda2/lib/python2.7/site-packages/ipykernel_launcher.py:8: RuntimeWarning: divide by zero encountered in log\n",
      "  \n",
      "/anaconda2/lib/python2.7/site-packages/ipykernel_launcher.py:8: RuntimeWarning: invalid value encountered in multiply\n",
      "  \n"
     ]
    }
   ],
   "source": [
    "# optimizing the cost function \n",
    "#Dont worry about the warning \n",
    "lam = 0.0 # No regularization\n",
    "res = op.minimize(costfn, np.zeros(3), args=(x,label,lam), method=None, jac=grad, options={'maxiter':400})"
   ]
  },
  {
   "cell_type": "code",
   "execution_count": 7,
   "metadata": {},
   "outputs": [
    {
     "data": {
      "text/plain": [
       "0.7762907240588949"
      ]
     },
     "execution_count": 7,
     "metadata": {},
     "output_type": "execute_result"
    }
   ],
   "source": [
    "# probability of acceptance where the first test score is 45 and the second test score is 85\n",
    "sigmoid(res.x[0]+res.x[1]*45+res.x[2]*85)"
   ]
  },
  {
   "cell_type": "code",
   "execution_count": null,
   "metadata": {},
   "outputs": [],
   "source": [
    "# Probability --> binary Labels \n",
    "def pred(x,theta):\n",
    "    prediction = sigmoid(theta[0]+ np.matmul(x,theta[1:]))\n",
    "    return [round(p) for p in prediction]\n",
    "# Accuracy calculator\n",
    "def accuracy(p,label):\n",
    "    diff = abs(p-label)\n",
    "    a = (len(label)-sum(diff))/len(label) \n",
    "    return a"
   ]
  },
  {
   "cell_type": "code",
   "execution_count": null,
   "metadata": {},
   "outputs": [],
   "source": [
    "# Model accuracy (training data)\n",
    "p = pred(x,res.x)\n",
    "accuracy(p,label)"
   ]
  },
  {
   "cell_type": "code",
   "execution_count": null,
   "metadata": {},
   "outputs": [],
   "source": [
    "neg = label == 0\n",
    "pos = label == 1\n",
    "ax = plt.gca()\n",
    "ax.scatter(x[pos][:,0], x[pos][:,1], c='g', s=60, linewidth=2, label='Pass')\n",
    "ax.scatter(x[neg][:,0], x[neg][:,1], c='r', s=60, label='Fail')\n",
    "ax.legend(frameon= True, fancybox = True)\n",
    "M1 = int(max(x[:,0]))\n",
    "m1 = int(min(x[:,0]))\n",
    "x1 = np.array(range(m1,M1))\n",
    "#Equation for x2 is solved for w.r.t x1\n",
    "x2 = -1.0*(res.x[0]+res.x[1]*x1)/res.x[2]\n",
    "ax.plot(x1,x2)"
   ]
  },
  {
   "cell_type": "code",
   "execution_count": null,
   "metadata": {},
   "outputs": [],
   "source": [
    "# Part two of the assignment \n",
    "data = pandas.read_csv('ex2data2.csv', header = None )\n",
    "dim = np.array(data.shape)\n",
    "x = np.array(data.iloc[:,0:(dim[1]-1)])\n",
    "label = np.array(data.iloc[:,(dim[1]-1)])\n",
    "# Feature mapping: map the features into all polynomial terms of x1 and x2 up to the sixth power\n",
    "poly = pp.PolynomialFeatures(6,include_bias=False)\n",
    "poly_features = poly.fit_transform(x)"
   ]
  },
  {
   "cell_type": "code",
   "execution_count": null,
   "metadata": {},
   "outputs": [],
   "source": [
    "# No regularization\n",
    "lam = 0.0\n",
    "res2 = op.minimize(costfn, np.zeros(28), args=(poly_features, label,lam), \n",
    "                   method=None, jac=grad, options={'maxiter':3000})\n",
    "p = pred(poly_features,res2.x)\n",
    "accuracy(p,label)"
   ]
  },
  {
   "cell_type": "code",
   "execution_count": null,
   "metadata": {},
   "outputs": [],
   "source": [
    "#Regularization term is 1 \n",
    "lam = 1.0\n",
    "res2 = op.minimize(costfn, np.zeros(28), args=(poly_features, label,lam), \n",
    "                   method=None, jac=grad, options={'maxiter':3000})\n",
    "p = pred(poly_features,res2.x)\n",
    "accuracy(p,label)"
   ]
  },
  {
   "cell_type": "code",
   "execution_count": null,
   "metadata": {},
   "outputs": [],
   "source": [
    "#Regularization term is 100 \n",
    "lam = 100.0\n",
    "res2 = op.minimize(costfn, np.zeros(28), args=(poly_features, label,lam), \n",
    "                   method=None, jac=grad, options={'maxiter':3000})\n",
    "p = pred(poly_features,res2.x)\n",
    "accuracy(p,label)"
   ]
  },
  {
   "cell_type": "code",
   "execution_count": null,
   "metadata": {},
   "outputs": [],
   "source": [
    "def decision_bound(x,theta):\n",
    "    neg = label == 0\n",
    "    pos = label == 1\n",
    "    ax = plt.gca()\n",
    "    ax.scatter(x[pos][:,0], x[pos][:,1], c='g', s=60, linewidth=2, label='Pass')\n",
    "    ax.scatter(x[neg][:,0], x[neg][:,1], c='r', s=60, label='Fail')\n",
    "    ax.legend(frameon= True, fancybox = True)\n",
    "    M1 = max(x[:,0])\n",
    "    m1 = min(x[:,0])\n",
    "    x1 = np.linspace(m1, M1, 100)\n",
    "    x2 = np.linspace(m1, M1, 100)\n",
    "    X1, X2 = np.meshgrid(x1,x2)\n",
    "    x_p = poly.fit_transform(zip(X1.ravel(),X2.ravel()))\n",
    "    F = sigmoid(theta[0]+np.matmul(x_p,theta[1:]))\n",
    "    F = F.reshape(X1.shape)\n",
    "    ax.contour(X1, X2, F,[0.5], linewidths=1, colors='b')\n",
    "#plotting the decision boundary with [0.0,1,100] regularization parameters\n",
    "lam_val = [0.0,1,100]\n",
    "\n",
    "for i in range(0,len(lam_val)) :\n",
    "    lam = lam_val[i]\n",
    "    res2 = op.minimize(costfn, np.zeros(28), args=(poly_features, label,lam), \n",
    "                   method=None, jac=grad, options={'maxiter':3000})\n",
    "    plt.figure(figsize=(20, 4))\n",
    "    plt.subplot(1,3,i+1)\n",
    "    p = pred(poly_features,res2.x)\n",
    "    accuracy(p,label)\n",
    "    decision_bound(x,res2.x)\n",
    "    plt.title('lambda, the regularization parameter is %i'%lam)"
   ]
  }
 ],
 "metadata": {
  "kernelspec": {
   "display_name": "Python 2",
   "language": "python",
   "name": "python2"
  },
  "language_info": {
   "codemirror_mode": {
    "name": "ipython",
    "version": 2
   },
   "file_extension": ".py",
   "mimetype": "text/x-python",
   "name": "python",
   "nbconvert_exporter": "python",
   "pygments_lexer": "ipython2",
   "version": "2.7.15"
  }
 },
 "nbformat": 4,
 "nbformat_minor": 2
}
